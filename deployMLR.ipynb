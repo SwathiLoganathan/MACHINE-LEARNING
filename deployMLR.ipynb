{
 "cells": [
  {
   "cell_type": "code",
   "execution_count": 1,
   "id": "d4f74ce6-afc9-4246-a4f8-474f77d84994",
   "metadata": {},
   "outputs": [],
   "source": [
    "import pickle"
   ]
  },
  {
   "cell_type": "code",
   "execution_count": 2,
   "id": "2c6ff6db-19e2-415d-a0fe-c814db592237",
   "metadata": {},
   "outputs": [],
   "source": [
    "filename=\"MLR_final.sav\""
   ]
  },
  {
   "cell_type": "code",
   "execution_count": 3,
   "id": "43690da3-78c8-4c08-bed9-aa93d941b8d8",
   "metadata": {},
   "outputs": [],
   "source": [
    "loaded_model=pickle.load(open(\"MLR_final.sav\",'rb'))"
   ]
  },
  {
   "cell_type": "code",
   "execution_count": 4,
   "id": "38dc803f-7f47-4031-b443-912b1bfbbdcd",
   "metadata": {},
   "outputs": [
    {
     "name": "stderr",
     "output_type": "stream",
     "text": [
      "C:\\Users\\swath\\anaconda3\\Lib\\site-packages\\sklearn\\base.py:493: UserWarning: X does not have valid feature names, but LinearRegression was fitted with feature names\n",
      "  warnings.warn(\n"
     ]
    }
   ],
   "source": [
    "result=loaded_model.predict([[1234,345,4565,1,0]])\n",
    "#HOW VARIABLES USE IT THAT  NO OF OUTPUT "
   ]
  },
  {
   "cell_type": "code",
   "execution_count": 5,
   "id": "0e90e1f0-2f11-4445-bb7a-3a815ca04160",
   "metadata": {},
   "outputs": [
    {
     "data": {
      "text/plain": [
       "array([[43994.79745873]])"
      ]
     },
     "execution_count": 5,
     "metadata": {},
     "output_type": "execute_result"
    }
   ],
   "source": [
    "result"
   ]
  }
 ],
 "metadata": {
  "kernelspec": {
   "display_name": "Python 3 (ipykernel)",
   "language": "python",
   "name": "python3"
  },
  "language_info": {
   "codemirror_mode": {
    "name": "ipython",
    "version": 3
   },
   "file_extension": ".py",
   "mimetype": "text/x-python",
   "name": "python",
   "nbconvert_exporter": "python",
   "pygments_lexer": "ipython3",
   "version": "3.12.4"
  }
 },
 "nbformat": 4,
 "nbformat_minor": 5
}
