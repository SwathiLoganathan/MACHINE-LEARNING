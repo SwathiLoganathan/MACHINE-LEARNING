{
 "cells": [
  {
   "cell_type": "code",
   "execution_count": 1,
   "id": "214708ab-acfe-48cd-8c68-504071b0640b",
   "metadata": {},
   "outputs": [],
   "source": [
    "import pickle\n",
    "#Import the pickle library to save the model."
   ]
  },
  {
   "cell_type": "code",
   "execution_count": 2,
   "id": "9c7dd9cc-898d-4169-812e-757d82900495",
   "metadata": {},
   "outputs": [],
   "source": [
    "#pickle.dump(regressor,open(\"finalModel.sav\",'wb'))\n",
    "#Save the trained model to a file called \"finalModel.sav\"."
   ]
  },
  {
   "cell_type": "code",
   "execution_count": 3,
   "id": "1cf99df4-9606-4aed-87ff-3d140bd315db",
   "metadata": {},
   "outputs": [],
   "source": [
    "load_model=pickle.load(open(\"finalModel.sav\",'rb'))\n",
    "#Load the saved model from the file \"finalModel.sav\"."
   ]
  },
  {
   "cell_type": "code",
   "execution_count": 4,
   "id": "7c4dc24a-065f-460b-92a6-5440bff8f2c0",
   "metadata": {},
   "outputs": [
    {
     "name": "stderr",
     "output_type": "stream",
     "text": [
      "C:\\Users\\swath\\anaconda3\\Lib\\site-packages\\sklearn\\base.py:493: UserWarning: X does not have valid feature names, but LinearRegression was fitted with feature names\n",
      "  warnings.warn(\n"
     ]
    }
   ],
   "source": [
    "result=load_model.predict([[15]])\n",
    "#0=mention (bias value display)\n",
    "#Use the loaded model to predict the salary for 15 years of experience.\n"
   ]
  },
  {
   "cell_type": "code",
   "execution_count": 5,
   "id": "a3a21422-d687-4e43-bb12-f4ef912ce6b2",
   "metadata": {},
   "outputs": [
    {
     "data": {
      "text/plain": [
       "array([[167181.3106341]])"
      ]
     },
     "execution_count": 5,
     "metadata": {},
     "output_type": "execute_result"
    }
   ],
   "source": [
    "result\n",
    "#print statement"
   ]
  }
 ],
 "metadata": {
  "kernelspec": {
   "display_name": "Python 3 (ipykernel)",
   "language": "python",
   "name": "python3"
  },
  "language_info": {
   "codemirror_mode": {
    "name": "ipython",
    "version": 3
   },
   "file_extension": ".py",
   "mimetype": "text/x-python",
   "name": "python",
   "nbconvert_exporter": "python",
   "pygments_lexer": "ipython3",
   "version": "3.12.4"
  }
 },
 "nbformat": 4,
 "nbformat_minor": 5
}
