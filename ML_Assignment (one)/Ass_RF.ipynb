{
 "cells": [
  {
   "cell_type": "code",
   "execution_count": 1,
   "id": "d513b2cb-2b4c-475d-be07-9bff4836afc0",
   "metadata": {},
   "outputs": [],
   "source": [
    "import pandas as pd\n"
   ]
  },
  {
   "cell_type": "code",
   "execution_count": 2,
   "id": "f0ea4b5e-00d3-46ed-b74d-b984ce9c08ec",
   "metadata": {},
   "outputs": [],
   "source": [
    "dataset = pd.read_csv('insurance_pre.csv')"
   ]
  },
  {
   "cell_type": "code",
   "execution_count": 3,
   "id": "e4ae4a29-b8c0-497f-a251-74b2c7983ff4",
   "metadata": {},
   "outputs": [
    {
     "data": {
      "text/html": [
       "<div>\n",
       "<style scoped>\n",
       "    .dataframe tbody tr th:only-of-type {\n",
       "        vertical-align: middle;\n",
       "    }\n",
       "\n",
       "    .dataframe tbody tr th {\n",
       "        vertical-align: top;\n",
       "    }\n",
       "\n",
       "    .dataframe thead th {\n",
       "        text-align: right;\n",
       "    }\n",
       "</style>\n",
       "<table border=\"1\" class=\"dataframe\">\n",
       "  <thead>\n",
       "    <tr style=\"text-align: right;\">\n",
       "      <th></th>\n",
       "      <th>age</th>\n",
       "      <th>sex</th>\n",
       "      <th>bmi</th>\n",
       "      <th>children</th>\n",
       "      <th>smoker</th>\n",
       "      <th>charges</th>\n",
       "    </tr>\n",
       "  </thead>\n",
       "  <tbody>\n",
       "    <tr>\n",
       "      <th>0</th>\n",
       "      <td>19</td>\n",
       "      <td>female</td>\n",
       "      <td>27.900</td>\n",
       "      <td>0</td>\n",
       "      <td>yes</td>\n",
       "      <td>16884.92400</td>\n",
       "    </tr>\n",
       "    <tr>\n",
       "      <th>1</th>\n",
       "      <td>18</td>\n",
       "      <td>male</td>\n",
       "      <td>33.770</td>\n",
       "      <td>1</td>\n",
       "      <td>no</td>\n",
       "      <td>1725.55230</td>\n",
       "    </tr>\n",
       "    <tr>\n",
       "      <th>2</th>\n",
       "      <td>28</td>\n",
       "      <td>male</td>\n",
       "      <td>33.000</td>\n",
       "      <td>3</td>\n",
       "      <td>no</td>\n",
       "      <td>4449.46200</td>\n",
       "    </tr>\n",
       "    <tr>\n",
       "      <th>3</th>\n",
       "      <td>33</td>\n",
       "      <td>male</td>\n",
       "      <td>22.705</td>\n",
       "      <td>0</td>\n",
       "      <td>no</td>\n",
       "      <td>21984.47061</td>\n",
       "    </tr>\n",
       "    <tr>\n",
       "      <th>4</th>\n",
       "      <td>32</td>\n",
       "      <td>male</td>\n",
       "      <td>28.880</td>\n",
       "      <td>0</td>\n",
       "      <td>no</td>\n",
       "      <td>3866.85520</td>\n",
       "    </tr>\n",
       "    <tr>\n",
       "      <th>...</th>\n",
       "      <td>...</td>\n",
       "      <td>...</td>\n",
       "      <td>...</td>\n",
       "      <td>...</td>\n",
       "      <td>...</td>\n",
       "      <td>...</td>\n",
       "    </tr>\n",
       "    <tr>\n",
       "      <th>1333</th>\n",
       "      <td>50</td>\n",
       "      <td>male</td>\n",
       "      <td>30.970</td>\n",
       "      <td>3</td>\n",
       "      <td>no</td>\n",
       "      <td>10600.54830</td>\n",
       "    </tr>\n",
       "    <tr>\n",
       "      <th>1334</th>\n",
       "      <td>18</td>\n",
       "      <td>female</td>\n",
       "      <td>31.920</td>\n",
       "      <td>0</td>\n",
       "      <td>no</td>\n",
       "      <td>2205.98080</td>\n",
       "    </tr>\n",
       "    <tr>\n",
       "      <th>1335</th>\n",
       "      <td>18</td>\n",
       "      <td>female</td>\n",
       "      <td>36.850</td>\n",
       "      <td>0</td>\n",
       "      <td>no</td>\n",
       "      <td>1629.83350</td>\n",
       "    </tr>\n",
       "    <tr>\n",
       "      <th>1336</th>\n",
       "      <td>21</td>\n",
       "      <td>female</td>\n",
       "      <td>25.800</td>\n",
       "      <td>0</td>\n",
       "      <td>no</td>\n",
       "      <td>2007.94500</td>\n",
       "    </tr>\n",
       "    <tr>\n",
       "      <th>1337</th>\n",
       "      <td>61</td>\n",
       "      <td>female</td>\n",
       "      <td>29.070</td>\n",
       "      <td>0</td>\n",
       "      <td>yes</td>\n",
       "      <td>29141.36030</td>\n",
       "    </tr>\n",
       "  </tbody>\n",
       "</table>\n",
       "<p>1338 rows × 6 columns</p>\n",
       "</div>"
      ],
      "text/plain": [
       "      age     sex     bmi  children smoker      charges\n",
       "0      19  female  27.900         0    yes  16884.92400\n",
       "1      18    male  33.770         1     no   1725.55230\n",
       "2      28    male  33.000         3     no   4449.46200\n",
       "3      33    male  22.705         0     no  21984.47061\n",
       "4      32    male  28.880         0     no   3866.85520\n",
       "...   ...     ...     ...       ...    ...          ...\n",
       "1333   50    male  30.970         3     no  10600.54830\n",
       "1334   18  female  31.920         0     no   2205.98080\n",
       "1335   18  female  36.850         0     no   1629.83350\n",
       "1336   21  female  25.800         0     no   2007.94500\n",
       "1337   61  female  29.070         0    yes  29141.36030\n",
       "\n",
       "[1338 rows x 6 columns]"
      ]
     },
     "execution_count": 3,
     "metadata": {},
     "output_type": "execute_result"
    }
   ],
   "source": [
    "dataset"
   ]
  },
  {
   "cell_type": "code",
   "execution_count": 4,
   "id": "3facccdc-cd95-4834-a0f4-850616ba27f4",
   "metadata": {},
   "outputs": [
    {
     "data": {
      "text/plain": [
       "Index(['age', 'sex', 'bmi', 'children', 'smoker', 'charges'], dtype='object')"
      ]
     },
     "execution_count": 4,
     "metadata": {},
     "output_type": "execute_result"
    }
   ],
   "source": [
    "dataset.columns"
   ]
  },
  {
   "cell_type": "code",
   "execution_count": 5,
   "id": "176a0c2c-c8bb-470a-b1be-75d7516112b1",
   "metadata": {},
   "outputs": [],
   "source": [
    "dataset = pd.get_dummies(dataset, dtype=int, drop_first=True)"
   ]
  },
  {
   "cell_type": "code",
   "execution_count": 6,
   "id": "8959f857-4c97-43ec-a0c5-cac20e80fb16",
   "metadata": {},
   "outputs": [
    {
     "data": {
      "text/html": [
       "<div>\n",
       "<style scoped>\n",
       "    .dataframe tbody tr th:only-of-type {\n",
       "        vertical-align: middle;\n",
       "    }\n",
       "\n",
       "    .dataframe tbody tr th {\n",
       "        vertical-align: top;\n",
       "    }\n",
       "\n",
       "    .dataframe thead th {\n",
       "        text-align: right;\n",
       "    }\n",
       "</style>\n",
       "<table border=\"1\" class=\"dataframe\">\n",
       "  <thead>\n",
       "    <tr style=\"text-align: right;\">\n",
       "      <th></th>\n",
       "      <th>age</th>\n",
       "      <th>bmi</th>\n",
       "      <th>children</th>\n",
       "      <th>charges</th>\n",
       "      <th>sex_male</th>\n",
       "      <th>smoker_yes</th>\n",
       "    </tr>\n",
       "  </thead>\n",
       "  <tbody>\n",
       "    <tr>\n",
       "      <th>0</th>\n",
       "      <td>19</td>\n",
       "      <td>27.900</td>\n",
       "      <td>0</td>\n",
       "      <td>16884.92400</td>\n",
       "      <td>0</td>\n",
       "      <td>1</td>\n",
       "    </tr>\n",
       "    <tr>\n",
       "      <th>1</th>\n",
       "      <td>18</td>\n",
       "      <td>33.770</td>\n",
       "      <td>1</td>\n",
       "      <td>1725.55230</td>\n",
       "      <td>1</td>\n",
       "      <td>0</td>\n",
       "    </tr>\n",
       "    <tr>\n",
       "      <th>2</th>\n",
       "      <td>28</td>\n",
       "      <td>33.000</td>\n",
       "      <td>3</td>\n",
       "      <td>4449.46200</td>\n",
       "      <td>1</td>\n",
       "      <td>0</td>\n",
       "    </tr>\n",
       "    <tr>\n",
       "      <th>3</th>\n",
       "      <td>33</td>\n",
       "      <td>22.705</td>\n",
       "      <td>0</td>\n",
       "      <td>21984.47061</td>\n",
       "      <td>1</td>\n",
       "      <td>0</td>\n",
       "    </tr>\n",
       "    <tr>\n",
       "      <th>4</th>\n",
       "      <td>32</td>\n",
       "      <td>28.880</td>\n",
       "      <td>0</td>\n",
       "      <td>3866.85520</td>\n",
       "      <td>1</td>\n",
       "      <td>0</td>\n",
       "    </tr>\n",
       "    <tr>\n",
       "      <th>...</th>\n",
       "      <td>...</td>\n",
       "      <td>...</td>\n",
       "      <td>...</td>\n",
       "      <td>...</td>\n",
       "      <td>...</td>\n",
       "      <td>...</td>\n",
       "    </tr>\n",
       "    <tr>\n",
       "      <th>1333</th>\n",
       "      <td>50</td>\n",
       "      <td>30.970</td>\n",
       "      <td>3</td>\n",
       "      <td>10600.54830</td>\n",
       "      <td>1</td>\n",
       "      <td>0</td>\n",
       "    </tr>\n",
       "    <tr>\n",
       "      <th>1334</th>\n",
       "      <td>18</td>\n",
       "      <td>31.920</td>\n",
       "      <td>0</td>\n",
       "      <td>2205.98080</td>\n",
       "      <td>0</td>\n",
       "      <td>0</td>\n",
       "    </tr>\n",
       "    <tr>\n",
       "      <th>1335</th>\n",
       "      <td>18</td>\n",
       "      <td>36.850</td>\n",
       "      <td>0</td>\n",
       "      <td>1629.83350</td>\n",
       "      <td>0</td>\n",
       "      <td>0</td>\n",
       "    </tr>\n",
       "    <tr>\n",
       "      <th>1336</th>\n",
       "      <td>21</td>\n",
       "      <td>25.800</td>\n",
       "      <td>0</td>\n",
       "      <td>2007.94500</td>\n",
       "      <td>0</td>\n",
       "      <td>0</td>\n",
       "    </tr>\n",
       "    <tr>\n",
       "      <th>1337</th>\n",
       "      <td>61</td>\n",
       "      <td>29.070</td>\n",
       "      <td>0</td>\n",
       "      <td>29141.36030</td>\n",
       "      <td>0</td>\n",
       "      <td>1</td>\n",
       "    </tr>\n",
       "  </tbody>\n",
       "</table>\n",
       "<p>1338 rows × 6 columns</p>\n",
       "</div>"
      ],
      "text/plain": [
       "      age     bmi  children      charges  sex_male  smoker_yes\n",
       "0      19  27.900         0  16884.92400         0           1\n",
       "1      18  33.770         1   1725.55230         1           0\n",
       "2      28  33.000         3   4449.46200         1           0\n",
       "3      33  22.705         0  21984.47061         1           0\n",
       "4      32  28.880         0   3866.85520         1           0\n",
       "...   ...     ...       ...          ...       ...         ...\n",
       "1333   50  30.970         3  10600.54830         1           0\n",
       "1334   18  31.920         0   2205.98080         0           0\n",
       "1335   18  36.850         0   1629.83350         0           0\n",
       "1336   21  25.800         0   2007.94500         0           0\n",
       "1337   61  29.070         0  29141.36030         0           1\n",
       "\n",
       "[1338 rows x 6 columns]"
      ]
     },
     "execution_count": 6,
     "metadata": {},
     "output_type": "execute_result"
    }
   ],
   "source": [
    "dataset"
   ]
  },
  {
   "cell_type": "code",
   "execution_count": 7,
   "id": "cae9a3ce-c84b-4f3a-921e-a4e79264c5e9",
   "metadata": {},
   "outputs": [],
   "source": [
    "independent=dataset[['age','bmi', 'children','sex_male','smoker_yes']]\n",
    "dependent=dataset[['charges']]"
   ]
  },
  {
   "cell_type": "code",
   "execution_count": 8,
   "id": "89341025-6546-4274-ab95-25c1781987dc",
   "metadata": {},
   "outputs": [
    {
     "data": {
      "text/html": [
       "<div>\n",
       "<style scoped>\n",
       "    .dataframe tbody tr th:only-of-type {\n",
       "        vertical-align: middle;\n",
       "    }\n",
       "\n",
       "    .dataframe tbody tr th {\n",
       "        vertical-align: top;\n",
       "    }\n",
       "\n",
       "    .dataframe thead th {\n",
       "        text-align: right;\n",
       "    }\n",
       "</style>\n",
       "<table border=\"1\" class=\"dataframe\">\n",
       "  <thead>\n",
       "    <tr style=\"text-align: right;\">\n",
       "      <th></th>\n",
       "      <th>age</th>\n",
       "      <th>bmi</th>\n",
       "      <th>children</th>\n",
       "      <th>sex_male</th>\n",
       "      <th>smoker_yes</th>\n",
       "    </tr>\n",
       "  </thead>\n",
       "  <tbody>\n",
       "    <tr>\n",
       "      <th>0</th>\n",
       "      <td>19</td>\n",
       "      <td>27.900</td>\n",
       "      <td>0</td>\n",
       "      <td>0</td>\n",
       "      <td>1</td>\n",
       "    </tr>\n",
       "    <tr>\n",
       "      <th>1</th>\n",
       "      <td>18</td>\n",
       "      <td>33.770</td>\n",
       "      <td>1</td>\n",
       "      <td>1</td>\n",
       "      <td>0</td>\n",
       "    </tr>\n",
       "    <tr>\n",
       "      <th>2</th>\n",
       "      <td>28</td>\n",
       "      <td>33.000</td>\n",
       "      <td>3</td>\n",
       "      <td>1</td>\n",
       "      <td>0</td>\n",
       "    </tr>\n",
       "    <tr>\n",
       "      <th>3</th>\n",
       "      <td>33</td>\n",
       "      <td>22.705</td>\n",
       "      <td>0</td>\n",
       "      <td>1</td>\n",
       "      <td>0</td>\n",
       "    </tr>\n",
       "    <tr>\n",
       "      <th>4</th>\n",
       "      <td>32</td>\n",
       "      <td>28.880</td>\n",
       "      <td>0</td>\n",
       "      <td>1</td>\n",
       "      <td>0</td>\n",
       "    </tr>\n",
       "    <tr>\n",
       "      <th>...</th>\n",
       "      <td>...</td>\n",
       "      <td>...</td>\n",
       "      <td>...</td>\n",
       "      <td>...</td>\n",
       "      <td>...</td>\n",
       "    </tr>\n",
       "    <tr>\n",
       "      <th>1333</th>\n",
       "      <td>50</td>\n",
       "      <td>30.970</td>\n",
       "      <td>3</td>\n",
       "      <td>1</td>\n",
       "      <td>0</td>\n",
       "    </tr>\n",
       "    <tr>\n",
       "      <th>1334</th>\n",
       "      <td>18</td>\n",
       "      <td>31.920</td>\n",
       "      <td>0</td>\n",
       "      <td>0</td>\n",
       "      <td>0</td>\n",
       "    </tr>\n",
       "    <tr>\n",
       "      <th>1335</th>\n",
       "      <td>18</td>\n",
       "      <td>36.850</td>\n",
       "      <td>0</td>\n",
       "      <td>0</td>\n",
       "      <td>0</td>\n",
       "    </tr>\n",
       "    <tr>\n",
       "      <th>1336</th>\n",
       "      <td>21</td>\n",
       "      <td>25.800</td>\n",
       "      <td>0</td>\n",
       "      <td>0</td>\n",
       "      <td>0</td>\n",
       "    </tr>\n",
       "    <tr>\n",
       "      <th>1337</th>\n",
       "      <td>61</td>\n",
       "      <td>29.070</td>\n",
       "      <td>0</td>\n",
       "      <td>0</td>\n",
       "      <td>1</td>\n",
       "    </tr>\n",
       "  </tbody>\n",
       "</table>\n",
       "<p>1338 rows × 5 columns</p>\n",
       "</div>"
      ],
      "text/plain": [
       "      age     bmi  children  sex_male  smoker_yes\n",
       "0      19  27.900         0         0           1\n",
       "1      18  33.770         1         1           0\n",
       "2      28  33.000         3         1           0\n",
       "3      33  22.705         0         1           0\n",
       "4      32  28.880         0         1           0\n",
       "...   ...     ...       ...       ...         ...\n",
       "1333   50  30.970         3         1           0\n",
       "1334   18  31.920         0         0           0\n",
       "1335   18  36.850         0         0           0\n",
       "1336   21  25.800         0         0           0\n",
       "1337   61  29.070         0         0           1\n",
       "\n",
       "[1338 rows x 5 columns]"
      ]
     },
     "execution_count": 8,
     "metadata": {},
     "output_type": "execute_result"
    }
   ],
   "source": [
    "independent"
   ]
  },
  {
   "cell_type": "code",
   "execution_count": 9,
   "id": "581de0e9-1ba0-47dd-ae5e-14015b28be99",
   "metadata": {},
   "outputs": [
    {
     "data": {
      "text/html": [
       "<div>\n",
       "<style scoped>\n",
       "    .dataframe tbody tr th:only-of-type {\n",
       "        vertical-align: middle;\n",
       "    }\n",
       "\n",
       "    .dataframe tbody tr th {\n",
       "        vertical-align: top;\n",
       "    }\n",
       "\n",
       "    .dataframe thead th {\n",
       "        text-align: right;\n",
       "    }\n",
       "</style>\n",
       "<table border=\"1\" class=\"dataframe\">\n",
       "  <thead>\n",
       "    <tr style=\"text-align: right;\">\n",
       "      <th></th>\n",
       "      <th>charges</th>\n",
       "    </tr>\n",
       "  </thead>\n",
       "  <tbody>\n",
       "    <tr>\n",
       "      <th>0</th>\n",
       "      <td>16884.92400</td>\n",
       "    </tr>\n",
       "    <tr>\n",
       "      <th>1</th>\n",
       "      <td>1725.55230</td>\n",
       "    </tr>\n",
       "    <tr>\n",
       "      <th>2</th>\n",
       "      <td>4449.46200</td>\n",
       "    </tr>\n",
       "    <tr>\n",
       "      <th>3</th>\n",
       "      <td>21984.47061</td>\n",
       "    </tr>\n",
       "    <tr>\n",
       "      <th>4</th>\n",
       "      <td>3866.85520</td>\n",
       "    </tr>\n",
       "    <tr>\n",
       "      <th>...</th>\n",
       "      <td>...</td>\n",
       "    </tr>\n",
       "    <tr>\n",
       "      <th>1333</th>\n",
       "      <td>10600.54830</td>\n",
       "    </tr>\n",
       "    <tr>\n",
       "      <th>1334</th>\n",
       "      <td>2205.98080</td>\n",
       "    </tr>\n",
       "    <tr>\n",
       "      <th>1335</th>\n",
       "      <td>1629.83350</td>\n",
       "    </tr>\n",
       "    <tr>\n",
       "      <th>1336</th>\n",
       "      <td>2007.94500</td>\n",
       "    </tr>\n",
       "    <tr>\n",
       "      <th>1337</th>\n",
       "      <td>29141.36030</td>\n",
       "    </tr>\n",
       "  </tbody>\n",
       "</table>\n",
       "<p>1338 rows × 1 columns</p>\n",
       "</div>"
      ],
      "text/plain": [
       "          charges\n",
       "0     16884.92400\n",
       "1      1725.55230\n",
       "2      4449.46200\n",
       "3     21984.47061\n",
       "4      3866.85520\n",
       "...           ...\n",
       "1333  10600.54830\n",
       "1334   2205.98080\n",
       "1335   1629.83350\n",
       "1336   2007.94500\n",
       "1337  29141.36030\n",
       "\n",
       "[1338 rows x 1 columns]"
      ]
     },
     "execution_count": 9,
     "metadata": {},
     "output_type": "execute_result"
    }
   ],
   "source": [
    "dependent"
   ]
  },
  {
   "cell_type": "code",
   "execution_count": 10,
   "id": "0f18e1b1-4b59-4bee-8e1b-432c970ebf30",
   "metadata": {},
   "outputs": [],
   "source": [
    "from sklearn.model_selection import train_test_split\n",
    "X_train,X_test,y_train,y_test=train_test_split(independent,dependent,test_size=0.30,random_state=0)"
   ]
  },
  {
   "cell_type": "code",
   "execution_count": 11,
   "id": "b027c5bb-fe32-467a-bbbb-bb66b43fb0b0",
   "metadata": {},
   "outputs": [],
   "source": [
    "from sklearn.preprocessing import StandardScaler\n",
    "SC=StandardScaler()\n",
    "X_train=SC.fit_transform(X_train)\n",
    "X_test=SC.transform(X_test)"
   ]
  },
  {
   "cell_type": "code",
   "execution_count": 12,
   "id": "84d0bc0d-ce28-4fb0-9630-100088714389",
   "metadata": {},
   "outputs": [
    {
     "data": {
      "text/plain": [
       "array([[ 0.89459283, -0.08863026, -0.06746417,  1.02378711, -0.50466988],\n",
       "       [ 0.53757957, -0.22180837, -0.06746417, -0.97676557, -0.50466988],\n",
       "       [ 0.60898222,  1.57449152,  0.76341038,  1.02378711,  1.98149332],\n",
       "       ...,\n",
       "       [ 1.10880078,  1.20785059, -0.89833872,  1.02378711, -0.50466988],\n",
       "       [ 1.75142463,  1.34905148, -0.06746417,  1.02378711, -0.50466988],\n",
       "       [ 1.60861933, -0.92299913, -0.89833872, -0.97676557, -0.50466988]])"
      ]
     },
     "execution_count": 12,
     "metadata": {},
     "output_type": "execute_result"
    }
   ],
   "source": [
    "X_test"
   ]
  },
  {
   "cell_type": "code",
   "execution_count": 13,
   "id": "17e3f014-53db-4523-9b76-60817f400955",
   "metadata": {},
   "outputs": [
    {
     "data": {
      "text/plain": [
       "array([[-1.5330973 , -0.40713453, -0.89833872, -0.97676557, -0.50466988],\n",
       "       [-0.03364163,  0.32855417, -0.89833872, -0.97676557, -0.50466988],\n",
       "       [ 0.89459283,  2.56690911,  3.25603402, -0.97676557, -0.50466988],\n",
       "       ...,\n",
       "       [ 0.03776102, -0.91016269, -0.89833872,  1.02378711, -0.50466988],\n",
       "       [-1.46169465,  0.76659782, -0.89833872,  1.02378711, -0.50466988],\n",
       "       [-0.46205754, -1.96596021, -0.06746417, -0.97676557, -0.50466988]])"
      ]
     },
     "execution_count": 13,
     "metadata": {},
     "output_type": "execute_result"
    }
   ],
   "source": [
    "X_train"
   ]
  },
  {
   "cell_type": "code",
   "execution_count": 14,
   "id": "1a398522-80ed-4a46-af3d-a898265d75c0",
   "metadata": {},
   "outputs": [
    {
     "name": "stderr",
     "output_type": "stream",
     "text": [
      "C:\\Users\\swath\\anaconda3\\Lib\\site-packages\\sklearn\\base.py:1474: DataConversionWarning: A column-vector y was passed when a 1d array was expected. Please change the shape of y to (n_samples,), for example using ravel().\n",
      "  return fit_method(estimator, *args, **kwargs)\n"
     ]
    }
   ],
   "source": [
    "from sklearn.ensemble import RandomForestRegressor\n",
    "regressor = RandomForestRegressor(n_estimators=100,random_state=0,criterion='absolute_error',max_features='sqrt')\n",
    "regressor=regressor.fit(X_train,y_train)"
   ]
  },
  {
   "cell_type": "code",
   "execution_count": 15,
   "id": "9672d5ba-33b9-4ba3-810b-3ff46544c2d0",
   "metadata": {},
   "outputs": [],
   "source": [
    "y_pred=regressor.predict(X_test)"
   ]
  },
  {
   "cell_type": "code",
   "execution_count": 16,
   "id": "8295124e-3aa2-4a60-8402-131405730344",
   "metadata": {},
   "outputs": [
    {
     "data": {
      "text/plain": [
       "array([10662.47484095,  8846.74560585, 43381.0893479 , 13557.4000603 ,\n",
       "       10325.6282795 , 10830.0437697 ,  2000.61284375, 11467.058197  ,\n",
       "        7500.1267983 ,  6504.9106596 ,  6224.4364928 , 12808.53848615,\n",
       "        8713.39463985,  5485.3026488 , 22680.4573987 , 11708.8413298 ,\n",
       "       14145.4305741 ,  4032.5074423 ,  6770.47170635, 32652.345673  ,\n",
       "       24323.63994285, 14368.7257075 , 11691.54631375, 25964.8075373 ,\n",
       "        3162.4453704 ,  7041.4285769 ,  5089.4056244 ,  7815.5306155 ,\n",
       "        3992.1710025 , 11690.3462272 ,  8359.5121235 , 46414.75714065,\n",
       "       13929.8374725 , 14028.4892363 , 17676.2055537 ,  4188.7081705 ,\n",
       "        8768.49256195, 37366.3632349 , 39302.1478875 ,  2320.44650725,\n",
       "        6357.5822617 ,  3919.2936809 , 21840.16410085, 46968.5048038 ,\n",
       "       37128.7195086 ,  4023.3477709 , 11759.8730973 ,  6525.769105  ,\n",
       "        6819.9286427 , 13546.2919282 ,  4695.4601225 ,  4683.12751785,\n",
       "       26239.5027509 , 44453.1103315 , 11783.684675  , 11944.2058189 ,\n",
       "        5575.8241082 , 11466.0931224 ,  9669.3190669 , 15811.7624112 ,\n",
       "        2679.77399195, 44115.0535569 , 16007.4638327 , 20179.03489245,\n",
       "       11044.2025909 ,  9757.657429  , 33294.7498309 , 38265.1077703 ,\n",
       "        4929.05586195,  8774.9726812 , 15055.85940045, 12785.79737075,\n",
       "       17040.3648091 , 14509.1665875 , 13918.8737647 , 13917.5175509 ,\n",
       "       10527.0023118 , 17219.9985168 , 21039.96431765, 45779.37005055,\n",
       "       11342.5874515 , 47118.2306373 ,  4277.85554235,  9790.2780917 ,\n",
       "       39859.5080348 , 19788.615001  ,  4716.877414  ,  3315.58514845,\n",
       "       14211.77543525, 37762.6370436 ,  6267.9117427 , 14390.02001325,\n",
       "        3185.7998989 ,  9213.07019345,  9955.2736451 ,  4671.7630175 ,\n",
       "       43070.2486324 , 41341.0042452 ,  5379.7245402 , 11209.5693777 ,\n",
       "        4846.00223535,  7194.4968094 ,  7596.1007743 , 38405.050514  ,\n",
       "       26745.2838644 ,  5606.3481908 , 11117.0253852 ,  5229.3126365 ,\n",
       "       11552.9058665 , 43872.06812875, 11769.8632551 ,  5691.4184505 ,\n",
       "       10237.70262585, 34722.8783043 , 44542.5351576 ,  7209.68948545,\n",
       "        3144.06681475, 11881.1754683 , 17464.65986055, 10416.2685163 ,\n",
       "       41439.2431848 , 11235.7673518 , 14537.810146  ,  7423.3186138 ,\n",
       "       10316.60222335,  5563.4119072 , 24341.4888105 , 23273.3667    ,\n",
       "       46658.48168825,  2484.26400535, 11979.9191936 ,  3769.10607305,\n",
       "        6314.9114628 ,  9407.81944945, 37138.6423362 , 36077.1720272 ,\n",
       "       26254.28006625, 11451.59556015, 23975.3886704 ,  5753.52712865,\n",
       "        2213.89768045, 12392.35279455, 11205.97078105, 11175.727395  ,\n",
       "        6719.1292374 , 14244.6968525 , 20865.3428989 , 10818.4268488 ,\n",
       "        1876.3574273 , 12454.3619485 ,  6087.603909  , 37942.4591591 ,\n",
       "       10133.34989185,  5411.65487785,  3406.66309375,  7306.3125946 ,\n",
       "        3132.9662609 ,  5748.70365325, 11708.8413298 ,  9911.6690021 ,\n",
       "        6424.0351009 , 13580.4936905 , 13565.9741242 ,  9295.712016  ,\n",
       "        5342.0369121 ,  7198.8198666 , 17606.68707   ,  8871.5214803 ,\n",
       "        4974.0895    ,  2484.98341225,  7607.5170089 ,  6193.35746035,\n",
       "       11405.1060047 ,  3677.9036173 ,  7174.6408723 ,  7660.94274   ,\n",
       "        5139.2132845 ,  6632.4763307 , 31003.8542796 ,  1935.7616208 ,\n",
       "       17759.71312975,  6488.7584772 , 11598.9349846 ,  6922.8652708 ,\n",
       "        7660.7614004 , 27678.1168075 ,  4052.26932305,  3143.36608995,\n",
       "       14203.0040315 , 10204.6521404 , 41656.780237  ,  7288.2934963 ,\n",
       "        5576.41649075, 26474.4572377 ,  4478.5217754 ,  2650.82503785,\n",
       "        7287.40566815,  6847.5472676 ,  9170.3493807 ,  4519.0230855 ,\n",
       "       12598.9538167 , 44663.63511325, 15498.4518517 , 19284.978113  ,\n",
       "       13720.5216559 , 43509.2537665 ,  4612.1852611 , 10113.1353298 ,\n",
       "        9765.9332615 ,  3824.2863185 ,  8682.040695  , 13584.2056077 ,\n",
       "        7722.5505118 ,  4776.59856925,  6597.8743485 ,  4257.54532815,\n",
       "        6613.1039479 ,  6482.9917734 , 14013.9983099 ,  7607.477366  ,\n",
       "        9245.4164098 ,  7970.4014119 , 10018.18577465,  6828.5882096 ,\n",
       "       12461.4659189 , 14260.0191545 , 15942.3176454 , 12348.6979435 ,\n",
       "        6815.5903957 ,  2698.2411495 ,  2763.25605545,  8131.60045425,\n",
       "       14698.0908508 ,  8536.71071425,  7306.4158319 ,  7317.8402027 ,\n",
       "       12063.28419525, 34464.0887974 ,  6127.0139115 , 12590.3555333 ,\n",
       "        5679.594489  , 35141.4111004 ,  9167.5449785 ,  9348.3558253 ,\n",
       "       10809.3029427 , 10948.68815515,  3593.8808918 ,  8744.190704  ,\n",
       "        4396.8647367 ,  6356.0090824 , 19767.16274485, 45108.433743  ,\n",
       "        5918.5409898 ,  5116.9649898 ,  4861.116657  ,  1626.1523515 ,\n",
       "        8671.7224308 ,  3989.38094025,  7114.7122432 , 10943.8745769 ,\n",
       "        8767.835661  , 24559.68313365, 44033.34770425, 14766.72363255,\n",
       "        6382.5326099 , 11130.411998  , 41228.9681556 , 10500.8772327 ,\n",
       "       40442.7505805 ,  1289.2615225 , 36993.709166  ,  7450.142431  ,\n",
       "       13315.2596018 ,  8406.4314406 , 39232.2225237 ,  5572.4256738 ,\n",
       "       10193.40178645,  9919.6730401 ,  4308.4417519 , 15455.9853856 ,\n",
       "       12089.0193517 , 10461.2217241 , 13939.67979   , 12805.3901015 ,\n",
       "        7140.7610114 ,  4829.0022248 ,  9304.558205  , 22095.43587435,\n",
       "        4370.2233128 ,  1980.9672023 ,  3015.67817275, 45974.42666395,\n",
       "       11502.41192945,  4991.482753  , 14638.1678087 , 15028.9613552 ,\n",
       "       34188.8992624 ,  6924.0989384 ,  5932.2540858 ,  9092.08026565,\n",
       "        5028.37684465,  5258.3901572 , 19368.205845  , 18105.0628678 ,\n",
       "       13546.2746654 ,  2774.516552  ,  3757.2917608 , 10543.6897117 ,\n",
       "       10370.79959105, 17351.0213751 , 20753.020437  ,  7637.0641091 ,\n",
       "       18037.3321686 ,  2340.631177  ,  7979.4790429 ,  9684.9939945 ,\n",
       "       14237.5226768 ,  3095.38669755,  8951.5817849 , 45398.4022192 ,\n",
       "        4051.7589108 ,  5072.9498684 ,  2437.17864815, 12342.88865275,\n",
       "        5169.9620527 , 12380.3441929 , 44371.83595265, 19083.6468205 ,\n",
       "        9178.1508453 , 41470.8920333 , 15395.8673947 , 13945.5747981 ,\n",
       "       10034.2090859 ,  5646.6079819 , 29004.540272  ,  4755.296692  ,\n",
       "       14790.74715415,  2647.9792262 , 18027.247317  ,  3964.9393396 ,\n",
       "       26047.9223149 ,  7913.2351797 ,  4217.17601295, 38670.727706  ,\n",
       "        8885.0917849 ,  5234.78742425, 33150.5143537 ,  4873.69027835,\n",
       "       10516.4262622 ,  3759.65782675, 12425.8001439 ,  4251.54411165,\n",
       "        6608.3684911 ,  7640.2057578 , 44444.141923  , 11312.5051291 ,\n",
       "       33619.9804026 , 37432.2746403 ,  6124.2860109 ,  9009.3792212 ,\n",
       "        2252.21886575,  5472.0381157 ,  4087.88761045,  9020.48648265,\n",
       "       47673.7205319 , 11234.664214  ,  2349.22797655, 13094.9542799 ,\n",
       "        2441.1202742 , 13361.86035835, 11279.3957849 ,  2503.9855897 ,\n",
       "        5100.4142845 , 36120.1362389 ,  7293.959627  ,  2152.87522175,\n",
       "       40456.9809979 , 12001.50605705, 44312.9637683 , 11351.8190175 ,\n",
       "        6146.8724526 ,  2578.48306425,  2278.710643  , 13649.60224565,\n",
       "        5684.4885172 ,  2343.16067295, 11583.5028136 ,  7202.913286  ,\n",
       "        7782.5201219 ,  7782.089284  ,  8466.43731555, 40807.5097361 ,\n",
       "        5085.3390731 , 15670.2991472 ,  7243.52455535, 13580.2350075 ,\n",
       "       11196.8836007 ,  8069.3932318 , 18474.4934812 , 13199.3435309 ,\n",
       "       16754.32069855, 19345.54269415])"
      ]
     },
     "execution_count": 16,
     "metadata": {},
     "output_type": "execute_result"
    }
   ],
   "source": [
    "y_pred"
   ]
  },
  {
   "cell_type": "code",
   "execution_count": 17,
   "id": "75e83f23-8256-4dcf-8f59-461d21a131d9",
   "metadata": {},
   "outputs": [],
   "source": [
    "from sklearn.metrics import r2_score\n",
    "r_score=r2_score(y_test,y_pred)"
   ]
  },
  {
   "cell_type": "code",
   "execution_count": 18,
   "id": "650b87d0-d7c0-4d46-ba3b-d0ca816bf4cd",
   "metadata": {},
   "outputs": [
    {
     "data": {
      "text/plain": [
       "0.8719764370337486"
      ]
     },
     "execution_count": 18,
     "metadata": {},
     "output_type": "execute_result"
    }
   ],
   "source": [
    "r_score"
   ]
  },
  {
   "cell_type": "code",
   "execution_count": 19,
   "id": "87e1cfcd-2456-4841-b4d3-b89c6fdf854c",
   "metadata": {},
   "outputs": [],
   "source": [
    "import pickle"
   ]
  },
  {
   "cell_type": "code",
   "execution_count": 20,
   "id": "919fc658-ac68-4210-ab6a-f79ec700ad36",
   "metadata": {},
   "outputs": [],
   "source": [
    "filename=\"RFModel_final.sav\"\n",
    "pickle.dump(regressor,open(filename,\"wb\"))"
   ]
  },
  {
   "cell_type": "code",
   "execution_count": 21,
   "id": "2d8e992f-6dd9-47b8-b2f4-c21007d63fe1",
   "metadata": {},
   "outputs": [],
   "source": [
    "loaded_model=pickle.load(open(\"RFModel_final.sav\",'rb'))"
   ]
  },
  {
   "cell_type": "code",
   "execution_count": 22,
   "id": "a47e022e-99ba-4f09-a4e0-e6618e58b8c5",
   "metadata": {},
   "outputs": [
    {
     "name": "stderr",
     "output_type": "stream",
     "text": [
      "C:\\Users\\swath\\anaconda3\\Lib\\site-packages\\sklearn\\base.py:493: UserWarning: X does not have valid feature names, but StandardScaler was fitted with feature names\n",
      "  warnings.warn(\n"
     ]
    }
   ],
   "source": [
    "Preinput=SC.transform([[18,33.770,1,1,0]])"
   ]
  },
  {
   "cell_type": "code",
   "execution_count": 23,
   "id": "aea01c57-3844-4186-8d03-43772fc4851f",
   "metadata": {},
   "outputs": [
    {
     "data": {
      "text/plain": [
       "array([[-1.5330973 ,  0.48419605, -0.06746417,  1.02378711, -0.50466988]])"
      ]
     },
     "execution_count": 23,
     "metadata": {},
     "output_type": "execute_result"
    }
   ],
   "source": [
    "Preinput"
   ]
  },
  {
   "cell_type": "code",
   "execution_count": 24,
   "id": "91df54fe-2634-49a8-919b-d1d7cf7cf48f",
   "metadata": {},
   "outputs": [],
   "source": [
    "result=loaded_model.predict(Preinput)"
   ]
  },
  {
   "cell_type": "code",
   "execution_count": 25,
   "id": "4fb4593c-e98d-4eab-bcd9-cddba9257f07",
   "metadata": {},
   "outputs": [
    {
     "data": {
      "text/plain": [
       "array([3769.10607305])"
      ]
     },
     "execution_count": 25,
     "metadata": {},
     "output_type": "execute_result"
    }
   ],
   "source": [
    "result"
   ]
  }
 ],
 "metadata": {
  "kernelspec": {
   "display_name": "Python 3 (ipykernel)",
   "language": "python",
   "name": "python3"
  },
  "language_info": {
   "codemirror_mode": {
    "name": "ipython",
    "version": 3
   },
   "file_extension": ".py",
   "mimetype": "text/x-python",
   "name": "python",
   "nbconvert_exporter": "python",
   "pygments_lexer": "ipython3",
   "version": "3.12.4"
  }
 },
 "nbformat": 4,
 "nbformat_minor": 5
}
