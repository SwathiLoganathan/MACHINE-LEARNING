{
 "cells": [
  {
   "cell_type": "code",
   "execution_count": 1,
   "id": "1c19e166-2dc5-4d0a-acaa-141775c05a6d",
   "metadata": {},
   "outputs": [],
   "source": [
    "import pickle"
   ]
  },
  {
   "cell_type": "code",
   "execution_count": 2,
   "id": "58f1a19b-2867-4a2e-9f80-ea06c8056e87",
   "metadata": {},
   "outputs": [],
   "source": [
    "loaded_model=pickle.load(open(\"RFModel_final.sav\",'rb'))"
   ]
  },
  {
   "cell_type": "code",
   "execution_count": 3,
   "id": "2bbe51dd-010a-4834-83cd-5babc576c387",
   "metadata": {},
   "outputs": [],
   "source": [
    "result=loaded_model.predict([[18,33.770,1,1,0]])"
   ]
  },
  {
   "cell_type": "code",
   "execution_count": 4,
   "id": "9c93c63a-f843-4f11-b778-bd512ba260e6",
   "metadata": {},
   "outputs": [
    {
     "data": {
      "text/plain": [
       "array([16011.5308828])"
      ]
     },
     "execution_count": 4,
     "metadata": {},
     "output_type": "execute_result"
    }
   ],
   "source": [
    "result"
   ]
  }
 ],
 "metadata": {
  "kernelspec": {
   "display_name": "Python 3 (ipykernel)",
   "language": "python",
   "name": "python3"
  },
  "language_info": {
   "codemirror_mode": {
    "name": "ipython",
    "version": 3
   },
   "file_extension": ".py",
   "mimetype": "text/x-python",
   "name": "python",
   "nbconvert_exporter": "python",
   "pygments_lexer": "ipython3",
   "version": "3.12.4"
  }
 },
 "nbformat": 4,
 "nbformat_minor": 5
}
