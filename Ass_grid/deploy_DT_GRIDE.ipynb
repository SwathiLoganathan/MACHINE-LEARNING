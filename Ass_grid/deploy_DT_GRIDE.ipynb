{
 "cells": [
  {
   "cell_type": "code",
   "execution_count": 1,
   "id": "6c2b6a78-2010-4d6d-af01-c51bfc60c68d",
   "metadata": {},
   "outputs": [],
   "source": [
    "import pickle"
   ]
  },
  {
   "cell_type": "code",
   "execution_count": 2,
   "id": "c3733b41-69e6-4481-80cf-02e9734e5263",
   "metadata": {},
   "outputs": [],
   "source": [
    "loaded_model=pickle.load(open(\"DT_grid.sav\",'rb'))"
   ]
  },
  {
   "cell_type": "code",
   "execution_count": 3,
   "id": "149543ae-1b8d-4229-8a42-20809aeff291",
   "metadata": {},
   "outputs": [
    {
     "name": "stdin",
     "output_type": "stream",
     "text": [
      "age 25\n",
      "bmi 25\n",
      "child 0\n",
      "gen 1\n",
      "smo 0\n"
     ]
    }
   ],
   "source": [
    "age=int(input('age'))\n",
    "bmi=float(input('bmi'))\n",
    "child=int(input('child'))\n",
    "gen=int(input('gen'))\n",
    "smo=int(input('smo'))"
   ]
  },
  {
   "cell_type": "code",
   "execution_count": 4,
   "id": "c1622392-4eed-43c3-b4ec-9ea292b5e67c",
   "metadata": {},
   "outputs": [],
   "source": [
    "result=loaded_model.predict([[age,bmi,child,gen,smo]])"
   ]
  },
  {
   "cell_type": "code",
   "execution_count": 5,
   "id": "58db893d-9644-4962-8335-0a464f2ed4d9",
   "metadata": {},
   "outputs": [
    {
     "data": {
      "text/plain": [
       "array([14418.2804])"
      ]
     },
     "execution_count": 5,
     "metadata": {},
     "output_type": "execute_result"
    }
   ],
   "source": [
    "result"
   ]
  }
 ],
 "metadata": {
  "kernelspec": {
   "display_name": "Python 3 (ipykernel)",
   "language": "python",
   "name": "python3"
  },
  "language_info": {
   "codemirror_mode": {
    "name": "ipython",
    "version": 3
   },
   "file_extension": ".py",
   "mimetype": "text/x-python",
   "name": "python",
   "nbconvert_exporter": "python",
   "pygments_lexer": "ipython3",
   "version": "3.12.4"
  }
 },
 "nbformat": 4,
 "nbformat_minor": 5
}
