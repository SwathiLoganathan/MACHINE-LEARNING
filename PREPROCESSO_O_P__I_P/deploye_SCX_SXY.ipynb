{
 "cells": [
  {
   "cell_type": "code",
   "execution_count": 1,
   "id": "c1f2ef4e-db47-46f8-90fc-9ed5c7ca9c90",
   "metadata": {},
   "outputs": [],
   "source": [
    "import pickle"
   ]
  },
  {
   "cell_type": "code",
   "execution_count": 2,
   "id": "933151d6-94d8-4fd4-b26c-734a6af8fd72",
   "metadata": {},
   "outputs": [],
   "source": [
    "loaded_model=pickle.load(open(\"SVM_final_SCY.sav\",'rb'))"
   ]
  },
  {
   "cell_type": "code",
   "execution_count": 3,
   "id": "b6763b9e-41fe-4c33-a286-7ecf2721551b",
   "metadata": {},
   "outputs": [],
   "source": [
    "SCX=pickle.load(open(\"SCX.pkl\",'rb'))"
   ]
  },
  {
   "cell_type": "code",
   "execution_count": 4,
   "id": "01cdfb0f-8a37-49ce-be5f-9ec255a04df2",
   "metadata": {},
   "outputs": [],
   "source": [
    "SCY=pickle.load(open(\"SCY.pkl\",'rb'))"
   ]
  },
  {
   "cell_type": "code",
   "execution_count": 5,
   "id": "19561f89-078e-4c94-a3c4-dcbccfa308eb",
   "metadata": {},
   "outputs": [
    {
     "name": "stderr",
     "output_type": "stream",
     "text": [
      "C:\\Users\\swath\\anaconda3\\Lib\\site-packages\\sklearn\\base.py:493: UserWarning: X does not have valid feature names, but StandardScaler was fitted with feature names\n",
      "  warnings.warn(\n"
     ]
    }
   ],
   "source": [
    "Preinput=SCX.transform([[1234,345,4565,1,0]])"
   ]
  },
  {
   "cell_type": "code",
   "execution_count": 6,
   "id": "6e385002-9146-48a4-9e78-184dc9d7352f",
   "metadata": {},
   "outputs": [
    {
     "data": {
      "text/plain": [
       "array([[-1.53518171, -4.82083019, -1.92357213,  1.38443731, -0.6770032 ]])"
      ]
     },
     "execution_count": 6,
     "metadata": {},
     "output_type": "execute_result"
    }
   ],
   "source": [
    "Preinput"
   ]
  },
  {
   "cell_type": "code",
   "execution_count": 7,
   "id": "0207b032-2e09-400b-9121-e8513ad52051",
   "metadata": {},
   "outputs": [],
   "source": [
    "result=loaded_model.predict(Preinput)"
   ]
  },
  {
   "cell_type": "code",
   "execution_count": 8,
   "id": "7050bb93-d21d-4c8f-a95f-82fa98c47877",
   "metadata": {},
   "outputs": [
    {
     "data": {
      "text/plain": [
       "array([-1.15016026])"
      ]
     },
     "execution_count": 8,
     "metadata": {},
     "output_type": "execute_result"
    }
   ],
   "source": [
    "result"
   ]
  },
  {
   "cell_type": "code",
   "execution_count": 9,
   "id": "38f515bd-dbf0-414c-ac79-7113532166b8",
   "metadata": {},
   "outputs": [],
   "source": [
    "Preoutput=SCY.inverse_transform([result])"
   ]
  },
  {
   "cell_type": "code",
   "execution_count": 10,
   "id": "5af55cd0-3543-4b51-af68-a5214d8522d0",
   "metadata": {},
   "outputs": [
    {
     "data": {
      "text/plain": [
       "array([[64241.51191125]])"
      ]
     },
     "execution_count": 10,
     "metadata": {},
     "output_type": "execute_result"
    }
   ],
   "source": [
    "Preoutput"
   ]
  }
 ],
 "metadata": {
  "kernelspec": {
   "display_name": "Python 3 (ipykernel)",
   "language": "python",
   "name": "python3"
  },
  "language_info": {
   "codemirror_mode": {
    "name": "ipython",
    "version": 3
   },
   "file_extension": ".py",
   "mimetype": "text/x-python",
   "name": "python",
   "nbconvert_exporter": "python",
   "pygments_lexer": "ipython3",
   "version": "3.12.4"
  }
 },
 "nbformat": 4,
 "nbformat_minor": 5
}
