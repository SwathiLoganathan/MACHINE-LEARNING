{
 "cells": [
  {
   "cell_type": "code",
   "execution_count": 1,
   "id": "8486d8c5-5b00-45ec-a28b-3ee7a7eb2d9d",
   "metadata": {},
   "outputs": [],
   "source": [
    "import pickle"
   ]
  },
  {
   "cell_type": "code",
   "execution_count": 2,
   "id": "6626e082-62fd-46e1-a109-bd8d9826f130",
   "metadata": {},
   "outputs": [],
   "source": [
    "sc=pickle.load(open(\"scx.pkl\",'rb'))"
   ]
  },
  {
   "cell_type": "code",
   "execution_count": 3,
   "id": "3512cadd-a04c-4a16-bd8a-24ea797afea9",
   "metadata": {},
   "outputs": [],
   "source": [
    "loaded_model=pickle.load(open(\"logis_final.sav\",'rb'))"
   ]
  },
  {
   "cell_type": "code",
   "execution_count": 4,
   "id": "8f49936e-d10c-40cb-9c06-717863f12004",
   "metadata": {},
   "outputs": [
    {
     "name": "stdout",
     "output_type": "stream",
     "text": [
      "Future_Predict=[1]\n"
     ]
    },
    {
     "name": "stderr",
     "output_type": "stream",
     "text": [
      "C:\\Users\\swath\\anaconda3\\Lib\\site-packages\\sklearn\\base.py:493: UserWarning: X does not have valid feature names, but StandardScaler was fitted with feature names\n",
      "  warnings.warn(\n"
     ]
    }
   ],
   "source": [
    "preinput = sc.transform([[2,76.4,3,0,148,57,3,137,4.6,12.5,38.86,8408,4.70,0,1,0,0,1,0,0,0,0,0,0,1,1,0]])\n",
    "Future_Predict = loaded_model.predict(preinput)\n",
    "print(\"Future_Predict={}\".format(Future_Predict))"
   ]
  },
  {
   "cell_type": "code",
   "execution_count": null,
   "id": "358e99b2-5785-4374-acf0-48138ced049a",
   "metadata": {},
   "outputs": [],
   "source": []
  }
 ],
 "metadata": {
  "kernelspec": {
   "display_name": "Python 3 (ipykernel)",
   "language": "python",
   "name": "python3"
  },
  "language_info": {
   "codemirror_mode": {
    "name": "ipython",
    "version": 3
   },
   "file_extension": ".py",
   "mimetype": "text/x-python",
   "name": "python",
   "nbconvert_exporter": "python",
   "pygments_lexer": "ipython3",
   "version": "3.12.4"
  }
 },
 "nbformat": 4,
 "nbformat_minor": 5
}
